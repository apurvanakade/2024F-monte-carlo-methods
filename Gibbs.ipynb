{
 "cells": [
  {
   "cell_type": "code",
   "execution_count": 111,
   "metadata": {},
   "outputs": [],
   "source": [
    "import numpy as np\n",
    "import pandas as pd\n",
    "import matplotlib.pyplot as plt\n",
    "from scipy.stats import multivariate_normal\n",
    "import ipywidgets as widgets\n",
    "\n",
    "np.random.seed(526)\n",
    "\n",
    "#source: https://rh8liuqy.github.io/Gibbs_Bivariate_Normal.html\n",
    "\n",
    "\n"
   ]
  },
  {
   "cell_type": "code",
   "execution_count": 112,
   "metadata": {},
   "outputs": [],
   "source": [
    "n = 0 # burn-in period\n",
    "N = 10\n",
    "\n",
    "# Correlation between X and Y\n",
    "rho = 0.5\n"
   ]
  },
  {
   "cell_type": "code",
   "execution_count": 113,
   "metadata": {},
   "outputs": [],
   "source": [
    "\n",
    "def gibbs_sampler(rho, N):\n",
    "  # In Gibbs we have a 100% acceptance rate\n",
    "  X = np.zeros(N + 1) \n",
    "  Y = np.zeros(N + 1)\n",
    "  for i in range(N): #np.arange(0,N,1):\n",
    "    X[i+1] = rho * Y[i] + np.sqrt(1-rho**2) * np.random.normal(0,1)\n",
    "    Y[i+1] = rho * X[i+1] + np.sqrt(1-rho**2) * np.random.normal(0,1)\n",
    "  return X, Y\n",
    "\n",
    "X, Y = gibbs_sampler(rho, N)"
   ]
  },
  {
   "cell_type": "code",
   "execution_count": 114,
   "metadata": {},
   "outputs": [],
   "source": [
    "# plot first k points in X\n",
    "def plot_points(X, Y, k):\n",
    "    x, y = np.mgrid[-3:3:0.01, -3:3:0.01]\n",
    "    pos = np.dstack((x, y))  # Create a position array for the grid\n",
    "    rho = 0.5  # Example correlation coefficient, change as needed\n",
    "    rv = multivariate_normal([0, 0], [[1, rho], [rho, 1]])\n",
    "\n",
    "    # Plot contour\n",
    "    plt.contour(x, y, rv.pdf(pos))\n",
    "\n",
    "    for i in range(k-1):\n",
    "      plt.plot(X[i], Y[i], 'rx',markersize=5)\n",
    "      plt.plot(X[i+1], Y[i], 'b.',markersize=5)\n",
    "    \n",
    "    plt.plot(X[k], Y[k], 'rx',markersize=10)    \n",
    "    plt.show()\n"
   ]
  },
  {
   "cell_type": "code",
   "execution_count": 115,
   "metadata": {},
   "outputs": [
    {
     "data": {
      "application/vnd.jupyter.widget-view+json": {
       "model_id": "81ed4b51450046f89271ab007903b675",
       "version_major": 2,
       "version_minor": 0
      },
      "text/plain": [
       "interactive(children=(IntSlider(value=0, description='k', max=10), Output()), _dom_classes=('widget-interact',…"
      ]
     },
     "metadata": {},
     "output_type": "display_data"
    }
   ],
   "source": [
    "def animate(X, Y):\n",
    "  widgets.interact(plot_points, X=widgets.fixed(X), Y=widgets.fixed(Y), \n",
    "                   k=widgets.IntSlider(min=0, max=len(X)-1, step=1, value=0), continuous_update=True)\n",
    "  \n",
    "animate(X, Y)"
   ]
  }
 ],
 "metadata": {
  "kernelspec": {
   "display_name": "venv",
   "language": "python",
   "name": "python3"
  },
  "language_info": {
   "codemirror_mode": {
    "name": "ipython",
    "version": 3
   },
   "file_extension": ".py",
   "mimetype": "text/x-python",
   "name": "python",
   "nbconvert_exporter": "python",
   "pygments_lexer": "ipython3",
   "version": "3.12.3"
  }
 },
 "nbformat": 4,
 "nbformat_minor": 2
}
