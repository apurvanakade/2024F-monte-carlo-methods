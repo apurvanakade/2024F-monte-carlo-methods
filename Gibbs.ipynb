{
 "cells": [
  {
   "cell_type": "code",
   "execution_count": 1,
   "metadata": {},
   "outputs": [],
   "source": [
    "import numpy as np\n",
    "import pandas as pd\n",
    "import matplotlib.pyplot as plt\n",
    "from scipy.stats import multivariate_normal\n",
    "import ipywidgets as widgets\n",
    "\n",
    "np.random.seed(526)\n",
    "\n",
    "#source: https://rh8liuqy.github.io/Gibbs_Bivariate_Normal.html\n",
    "\n",
    "\n"
   ]
  },
  {
   "cell_type": "code",
   "execution_count": 2,
   "metadata": {},
   "outputs": [],
   "source": [
    "\n",
    "def gibbs_sampler(rho, N):\n",
    "  # In Gibbs we have a 100% acceptance rate\n",
    "  X = np.zeros(N + 1) \n",
    "  Y = np.zeros(N + 1)\n",
    "  for i in range(N): #np.arange(0,N,1):\n",
    "    X[i+1] = rho * Y[i] + np.sqrt(1-rho**2) * np.random.normal(0,1)\n",
    "    Y[i+1] = rho * X[i+1] + np.sqrt(1-rho**2) * np.random.normal(0,1)\n",
    "  return X, Y\n",
    "\n"
   ]
  },
  {
   "cell_type": "code",
   "execution_count": 27,
   "metadata": {},
   "outputs": [],
   "source": [
    "# plot first k points in X\n",
    "def plot_points(X, Y, k):\n",
    "    x, y = np.mgrid[-3:3:0.01, -3:3:0.01]\n",
    "    pos = np.dstack((x, y))  # Create a position array for the grid\n",
    "    rho = 0.5  # Example correlation coefficient, change as needed\n",
    "    rv = multivariate_normal([0, 0], [[1, rho], [rho, 1]])\n",
    "\n",
    "    # Plot contour\n",
    "    plt.contour(x, y, rv.pdf(pos))\n",
    "\n",
    "    for i in range(k):\n",
    "      plt.plot(X[i], Y[i], 'rx',markersize=5)\n",
    "      # plt.plot(X[i+1], Y[i], 'b.',markersize=5)\n",
    "      plt.plot([X[i], X[i+1]], [Y[i], Y[i]], 'b-', alpha=0.25)\n",
    "      # if i < k-1:\n",
    "      plt.plot([X[i+1], X[i+1]], [Y[i], Y[i+1]], 'b-', alpha=0.25)\n",
    "    \n",
    "    # plt.plot(X[k], Y[k], 'rx',markersize=10)    \n",
    "    # plt.plot([X[k-1], X[k]], [Y[k-1], Y[k]], '-')\n",
    "    plt.show()\n"
   ]
  },
  {
   "cell_type": "code",
   "execution_count": null,
   "metadata": {},
   "outputs": [
    {
     "data": {
      "application/vnd.jupyter.widget-view+json": {
       "model_id": "d58958a3051f48e0a1b58fdf5676c2c4",
       "version_major": 2,
       "version_minor": 0
      },
      "text/plain": [
       "interactive(children=(IntSlider(value=0, description='k'), Output()), _dom_classes=('widget-interact',))"
      ]
     },
     "metadata": {},
     "output_type": "display_data"
    }
   ],
   "source": [
    "n = 0 # burn-in period\n",
    "N = 100\n",
    "\n",
    "# Correlation between X and Y\n",
    "rho = 0.5\n",
    "\n",
    "X, Y = gibbs_sampler(rho, N)\n",
    "\n",
    "def animate(X, Y):\n",
    "  widgets.interact(plot_points, X=widgets.fixed(X), Y=widgets.fixed(Y), \n",
    "                   k=widgets.IntSlider(min=0, max=len(X)-1, step=1, value=0), continuous_update=True)\n",
    "  \n",
    "animate(X, Y)"
   ]
  }
 ],
 "metadata": {
  "kernelspec": {
   "display_name": "venv",
   "language": "python",
   "name": "python3"
  },
  "language_info": {
   "codemirror_mode": {
    "name": "ipython",
    "version": 3
   },
   "file_extension": ".py",
   "mimetype": "text/x-python",
   "name": "python",
   "nbconvert_exporter": "python",
   "pygments_lexer": "ipython3",
   "version": "3.13.0"
  }
 },
 "nbformat": 4,
 "nbformat_minor": 2
}
