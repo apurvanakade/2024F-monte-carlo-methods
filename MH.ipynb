{
 "cells": [
  {
   "cell_type": "code",
   "execution_count": 11,
   "metadata": {},
   "outputs": [],
   "source": [
    "import numpy as np\n",
    "import matplotlib.pyplot as plt\n",
    "import seaborn as sns\n",
    "import ipywidgets as widgets\n",
    "from shapely.geometry import Point\n",
    "from shapely.geometry.polygon import Polygon\n",
    "\n"
   ]
  },
  {
   "cell_type": "code",
   "execution_count": 12,
   "metadata": {},
   "outputs": [
    {
     "data": {
      "image/png": "[encoded data removed]",
      "text/plain": [
       "<Figure size 640x480 with 1 Axes>"
      ]
     },
     "metadata": {},
     "output_type": "display_data"
    }
   ],
   "source": [
    "# Draw an L shaped region in R2 \n",
    "def L_shape():\n",
    "    X = np.array([[0, 0], [1, 0], [1, 0.2], [0.3, 0.2], [0.3, 1], [0, 1], [0, 0]])\n",
    "    return X\n",
    "\n",
    "# plot the polygon\n",
    "def plot_polygon(X):\n",
    "    # increase thickness of lines\n",
    "    plt.rcParams['lines.linewidth'] = 2\n",
    "    # plot the polygon\n",
    "    plt.plot(X[:, 0], X[:, 1], 'b')\n",
    "\n",
    "    plt.axis('equal')\n",
    "    #show xy axes and some grid lines\n",
    "    plt.axhline(0, color='black', lw=1)\n",
    "    plt.axvline(0, color='black', lw=1)\n",
    "    plt.grid(True)\n",
    "    #make the grid dotted\n",
    "    plt.minorticks_on()\n",
    "    plt.grid(which='major', linestyle='-', linewidth='0.25', color='grey')\n",
    "\n",
    "    return plt\n",
    "\n",
    "region = L_shape()\n",
    "poly = Polygon(region)\n",
    "plt = plot_polygon(region)\n",
    "plt.show()"
   ]
  },
  {
   "cell_type": "code",
   "execution_count": 13,
   "metadata": {},
   "outputs": [],
   "source": [
    "n = 1000\n",
    "\n",
    "# starting point\n",
    "X = [(0, 0)]\n",
    "\n",
    "# search parameters\n",
    "delta = 0.1\n",
    "search_distribution = \"normal\"\n"
   ]
  },
  {
   "cell_type": "code",
   "execution_count": 14,
   "metadata": {},
   "outputs": [],
   "source": [
    "# nearby candidate points\n",
    "def generate_candidate(x, y, delta, distribution):\n",
    "    if distribution == \"uniform\":\n",
    "        x_new = np.random.uniform(x - delta, x + delta)\n",
    "        y_new = np.random.uniform(y - delta, y + delta)\n",
    "    elif distribution == \"normal\":\n",
    "        x_new = np.random.normal(x, delta)\n",
    "        y_new = np.random.normal(y, delta)\n",
    "    return (x_new, y_new)\n",
    "  \n",
    "# check if a point is in the region\n",
    "def is_in_region(x, region):\n",
    "  return poly.contains(Point(x))"
   ]
  },
  {
   "cell_type": "code",
   "execution_count": 15,
   "metadata": {},
   "outputs": [],
   "source": [
    "def Metropolis_Hastings(n, X, delta, search_distribution):\n",
    "  for i in range(n):\n",
    "    new_sample = generate_candidate(X[-1][0], X[-1][1], delta, search_distribution)\n",
    "    if is_in_region(new_sample, poly):\n",
    "      X.append(new_sample)  \n",
    "  return X"
   ]
  },
  {
   "cell_type": "code",
   "execution_count": 16,
   "metadata": {},
   "outputs": [],
   "source": [
    "# plot first k points in X\n",
    "def plot_points(polygon, X, k):\n",
    "    plt = plot_polygon(polygon)\n",
    "    for i in range(k-1):\n",
    "      plt.plot(X[i][0], X[i][1], 'r.',markersize=2)\n",
    "    \n",
    "    plt.plot(X[k][0], X[k][1], 'x',markersize=10)\n",
    "\n",
    "    # draw a filled circle at the last point of radius delta\n",
    "    circle = plt.Circle((X[k][0], X[k][1]), delta, color='r', fill=True, alpha=0.5)\n",
    "    plt.gca().add_artist(circle)\n",
    "\n",
    "    # show the value of k, delta, and acceptance rate on the plot in the legend in the top right corner\n",
    "    plt.legend([f'\\n k = {k}, \\n delta = {delta}'], loc='upper right')\n",
    "        \n",
    "    plt.show()\n",
    "\n"
   ]
  },
  {
   "cell_type": "code",
   "execution_count": 17,
   "metadata": {},
   "outputs": [],
   "source": [
    "def animate(X, region):\n",
    "  widgets.interact(plot_points, polygon=widgets.fixed(region), X=widgets.fixed(X), k=widgets.Play(min=0, max=len(X)-1, step=1, value=0), continuous_update=True)"
   ]
  },
  {
   "cell_type": "code",
   "execution_count": 18,
   "metadata": {},
   "outputs": [
    {
     "name": "stdout",
     "output_type": "stream",
     "text": [
      "Acceptance rate: 0.188\n"
     ]
    },
    {
     "data": {
      "application/vnd.jupyter.widget-view+json": {
       "model_id": "0cb9e7df80a44aee8e82cd8604e1f0ae",
       "version_major": 2,
       "version_minor": 0
      },
      "text/plain": [
       "interactive(children=(Play(value=0, description='k', max=93), Output()), _dom_classes=('widget-interact',))"
      ]
     },
     "metadata": {},
     "output_type": "display_data"
    }
   ],
   "source": [
    "n_1 = 500\n",
    "X_1 = [(0, 0)]\n",
    "delta_1 = 0.5\n",
    "search_distribution = \"normal\"\n",
    "\n",
    "X_1 = Metropolis_Hastings(n_1, X_1, delta_1, search_distribution)\n",
    "\n",
    "print(f\"Acceptance rate: {len(X_1)/n_1}\")\n",
    "animate(X_1, region)"
   ]
  },
  {
   "cell_type": "code",
   "execution_count": 19,
   "metadata": {},
   "outputs": [
    {
     "name": "stdout",
     "output_type": "stream",
     "text": [
      "Acceptance rate: 0.302\n"
     ]
    },
    {
     "data": {
      "application/vnd.jupyter.widget-view+json": {
       "model_id": "7b809ee55f5142c2934faea4f9a4d662",
       "version_major": 2,
       "version_minor": 0
      },
      "text/plain": [
       "interactive(children=(Play(value=0, description='k', max=150), Output()), _dom_classes=('widget-interact',))"
      ]
     },
     "metadata": {},
     "output_type": "display_data"
    }
   ],
   "source": [
    "n_2 = 500\n",
    "X_2 = [(0, 0)]\n",
    "delta_2 = 0.3\n",
    "search_distribution = \"normal\"\n",
    "\n",
    "X_2 = Metropolis_Hastings(n_2, X_2, delta_2, search_distribution)\n",
    "\n",
    "print(f\"Acceptance rate: {len(X_2)/n_2}\")\n",
    "animate(X_2, region)"
   ]
  },
  {
   "cell_type": "code",
   "execution_count": 20,
   "metadata": {},
   "outputs": [
    {
     "name": "stdout",
     "output_type": "stream",
     "text": [
      "Acceptance rate: 0.634\n"
     ]
    },
    {
     "data": {
      "application/vnd.jupyter.widget-view+json": {
       "model_id": "946e278f5e224801b385dac087387385",
       "version_major": 2,
       "version_minor": 0
      },
      "text/plain": [
       "interactive(children=(Play(value=0, description='k', max=316), Output()), _dom_classes=('widget-interact',))"
      ]
     },
     "metadata": {},
     "output_type": "display_data"
    }
   ],
   "source": [
    "n_3 = 500\n",
    "X_3 = [(0, 0)]\n",
    "delta_3 = 0.1\n",
    "search_distribution = \"normal\"\n",
    "\n",
    "X_3 = Metropolis_Hastings(n_3, X_3, delta_3, search_distribution)\n",
    "\n",
    "print(f\"Acceptance rate: {len(X_3)/n_3}\")\n",
    "animate(X_3, region)"
   ]
  }
 ],
 "metadata": {
  "kernelspec": {
   "display_name": "Python 3",
   "language": "python",
   "name": "python3"
  },
  "language_info": {
   "codemirror_mode": {
    "name": "ipython",
    "version": 3
   },
   "file_extension": ".py",
   "mimetype": "text/x-python",
   "name": "python",
   "nbconvert_exporter": "python",
   "pygments_lexer": "ipython3",
   "version": "3.12.3"
  }
 },
 "nbformat": 4,
 "nbformat_minor": 2
}
