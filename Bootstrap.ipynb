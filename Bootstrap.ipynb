{
 "cells": [
  {
   "cell_type": "markdown",
   "metadata": {},
   "source": [
    "# Bootstrap example\n",
    "\n",
    "Suppose we have a Bernoulli random variable $X$ with unknown parameter $p$. We want to estimate $p$. We run a simulation of 10 trials and get a sample of the following values: 1, 1, 1, 0, 1, 1, 1, 0, 0, 1. We want to estimate $p$ and its confidence interval."
   ]
  },
  {
   "cell_type": "code",
   "execution_count": 56,
   "metadata": {},
   "outputs": [],
   "source": [
    "import numpy as np\n",
    "import matplotlib.pyplot as plt\n",
    "import seaborn as sns\n",
    "import scipy.stats as st \n"
   ]
  },
  {
   "cell_type": "code",
   "execution_count": 51,
   "metadata": {},
   "outputs": [
    {
     "name": "stdout",
     "output_type": "stream",
     "text": [
      "0.7\n"
     ]
    }
   ],
   "source": [
    "samples = np.array([1, 1, 1, 0, 1, 1, 1, 0, 0, 1])\n",
    "\n",
    "mu = samples.mean()\n",
    "print(mu)"
   ]
  },
  {
   "cell_type": "markdown",
   "metadata": {},
   "source": [
    "So the expected value of `p` is 0.7. The number of samples is too small to estimate the confidence intervals directly using the normal distribution. We will use the bootstrap method to estimate the confidence intervals.\n",
    "\n",
    "First we generate several bootstrap samples."
   ]
  },
  {
   "cell_type": "code",
   "execution_count": 44,
   "metadata": {},
   "outputs": [
    {
     "name": "stdout",
     "output_type": "stream",
     "text": [
      "[[0 1 0 ... 1 0 1]\n",
      " [1 0 0 ... 0 1 0]\n",
      " [0 0 1 ... 1 1 1]\n",
      " ...\n",
      " [0 1 0 ... 1 1 1]\n",
      " [0 1 1 ... 1 1 0]\n",
      " [0 0 0 ... 1 1 0]]\n"
     ]
    }
   ],
   "source": [
    "n = 5000\n",
    "\n",
    "def bootstrap_sample(data):\n",
    "    return np.random.choice(data, size=len(data), replace=True)\n",
    "\n",
    "bootstrap_samples = np.array([bootstrap_sample(samples) for _ in range(n)])\n",
    "\n",
    "print(bootstrap_samples)"
   ]
  },
  {
   "cell_type": "markdown",
   "metadata": {},
   "source": [
    "Note that each sample is a list of 10 elements, distributed according to the original sample. However, the mean of these samples will be normally distributed by the central limit theorem."
   ]
  },
  {
   "cell_type": "code",
   "execution_count": 45,
   "metadata": {},
   "outputs": [
    {
     "name": "stdout",
     "output_type": "stream",
     "text": [
      "0.7 0.15\n"
     ]
    }
   ],
   "source": [
    "bootstrap_sample_means = bootstrap_samples.mean(axis=1)\n",
    "\n",
    "mean = np.mean(bootstrap_sample_means)\n",
    "std_dev = np.std(bootstrap_sample_means, ddof=1)  # Use ddof=1 for sample standard deviation\n",
    "\n",
    "print(np.round(mean, 2), np.round(std_dev, 2))"
   ]
  },
  {
   "cell_type": "code",
   "execution_count": 46,
   "metadata": {},
   "outputs": [
    {
     "data": {
      "text/plain": [
       "<matplotlib.lines.Line2D at 0x785218c7fb30>"
      ]
     },
     "execution_count": 46,
     "metadata": {},
     "output_type": "execute_result"
    },
    {
     "data": {
      "image/png": "[encoded data removed]",
      "text/plain": [
       "<Figure size 640x480 with 1 Axes>"
      ]
     },
     "metadata": {},
     "output_type": "display_data"
    }
   ],
   "source": [
    "# plot smoothened histogram of the bootstrap samples\n",
    "sns.kdeplot(bootstrap_sample_means, color='red', bw_adjust=2)\n",
    "plt.axvline(mean, color='blue')"
   ]
  },
  {
   "cell_type": "markdown",
   "metadata": {},
   "source": [
    "We can use the mean and standard deviation of the bootstrap samples to estimate the confidence intervals."
   ]
  },
  {
   "cell_type": "code",
   "execution_count": null,
   "metadata": {},
   "outputs": [
    {
     "name": "stdout",
     "output_type": "stream",
     "text": [
      "[0.4 0.9]\n"
     ]
    }
   ],
   "source": [
    "# 95% confidence interval using quantiles\n",
    "\n",
    "confidence_interval_quantiles = np.percentile(bootstrap_sample_means, [2.5, 97.5])\n",
    "print(confidence_interval_quantiles)"
   ]
  },
  {
   "cell_type": "code",
   "execution_count": null,
   "metadata": {},
   "outputs": [
    {
     "name": "stdout",
     "output_type": "stream",
     "text": [
      "[0.69451638 0.70256362]\n"
     ]
    }
   ],
   "source": [
    "# 95% confidence interval using z-values\n",
    "confidence_interval_normal = np.array(st.norm.interval(confidence=0.90,\n",
    "                 loc=np.mean(bootstrap_sample_means), \n",
    "                 scale=st.sem(bootstrap_sample_means))) \n",
    "\n",
    "print(confidence_interval_normal)"
   ]
  }
 ],
 "metadata": {
  "kernelspec": {
   "display_name": "Python 3",
   "language": "python",
   "name": "python3"
  },
  "language_info": {
   "codemirror_mode": {
    "name": "ipython",
    "version": 3
   },
   "file_extension": ".py",
   "mimetype": "text/x-python",
   "name": "python",
   "nbconvert_exporter": "python",
   "pygments_lexer": "ipython3",
   "version": "3.12.3"
  }
 },
 "nbformat": 4,
 "nbformat_minor": 2
}
